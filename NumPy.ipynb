{
 "cells": [
  {
   "cell_type": "code",
   "execution_count": 31,
   "id": "377f479b-6929-43b7-99a4-7af435dded0f",
   "metadata": {},
   "outputs": [],
   "source": [
    "import numpy as np"
   ]
  },
  {
   "cell_type": "code",
   "execution_count": 32,
   "id": "ac2b7f67-4fe4-4603-aed7-edaf5e709a6b",
   "metadata": {},
   "outputs": [
    {
     "data": {
      "text/plain": [
       "array([1, 2, 3, 4, 5])"
      ]
     },
     "execution_count": 32,
     "metadata": {},
     "output_type": "execute_result"
    }
   ],
   "source": [
    "list_ = [ 1 , 2 , 3 , 4 , 5 ]\n",
    "array_list = np.array(list_)\n",
    "array_list"
   ]
  },
  {
   "cell_type": "markdown",
   "id": "4d4ffaf0-e71a-4c31-a341-fa1e89434761",
   "metadata": {},
   "source": [
    "Q1. Is there any difference in the data type of variables list_ and array_list? If there is then write a code\n",
    "to print the data types of both the variables."
   ]
  },
  {
   "cell_type": "markdown",
   "id": "39924fe8-7649-4b2a-9ef5-cd1d4ffed134",
   "metadata": {},
   "source": [
    "Yes,there is difference."
   ]
  },
  {
   "cell_type": "markdown",
   "id": "e0b9443b-a9bf-4c60-a289-1e14b6de7f91",
   "metadata": {},
   "source": [
    "Q2. Write a code to print the data type of each and every element of both the variables list_ and\n",
    "arra_list."
   ]
  },
  {
   "cell_type": "code",
   "execution_count": 33,
   "id": "7021753f-1ce0-4cba-ad83-5d4b34818acc",
   "metadata": {},
   "outputs": [
    {
     "data": {
      "text/plain": [
       "array([1, 2, 3, 4, 5])"
      ]
     },
     "execution_count": 33,
     "metadata": {},
     "output_type": "execute_result"
    }
   ],
   "source": [
    "list_ = [ 1 , 2 , 3 , 4 , 5 ]\n",
    "array_list = np.array(list_)\n",
    "array_list"
   ]
  },
  {
   "cell_type": "code",
   "execution_count": 34,
   "id": "746cf727-df79-4297-9370-6cb7adb608ab",
   "metadata": {},
   "outputs": [
    {
     "name": "stdout",
     "output_type": "stream",
     "text": [
      "Data type of `list_`:  <class 'list'>\n",
      "Data type of `array_list`:  <class 'numpy.ndarray'>\n"
     ]
    }
   ],
   "source": [
    "print(\"Data type of `list_`: \", type(list_))\n",
    "print(\"Data type of `array_list`: \", type(array_list))"
   ]
  },
  {
   "cell_type": "markdown",
   "id": "fcd5df41-8267-4cfb-958f-b5bcd26e2f65",
   "metadata": {},
   "source": [
    "Q3. Considering the following changes in the variable, array_list:\n",
    "array_list = np.array(object = list_, dtype = int)"
   ]
  },
  {
   "cell_type": "code",
   "execution_count": 35,
   "id": "276ab731-fea1-4447-8374-e27fad5e8c20",
   "metadata": {},
   "outputs": [],
   "source": [
    "## yes there will be change in data types of both the variable"
   ]
  },
  {
   "cell_type": "code",
   "execution_count": 36,
   "id": "651c092c-f355-4bc0-8ea5-747381abedd8",
   "metadata": {},
   "outputs": [
    {
     "data": {
      "text/plain": [
       "array([[1, 2, 3],\n",
       "       [4, 5, 6]])"
      ]
     },
     "execution_count": 36,
     "metadata": {},
     "output_type": "execute_result"
    }
   ],
   "source": [
    "num_list = [ [ 1 , 2 , 3 ] , [ 4 , 5 , 6 ] ]\n",
    "num_array = np.array(object = num_list)\n",
    "num_array"
   ]
  },
  {
   "cell_type": "code",
   "execution_count": 37,
   "id": "450b2bd1-2c2b-437e-bf30-a939f82f7438",
   "metadata": {},
   "outputs": [
    {
     "name": "stdout",
     "output_type": "stream",
     "text": [
      "<class 'list'>\n",
      "<class 'numpy.ndarray'>\n"
     ]
    }
   ],
   "source": [
    "print(type(num_list))\n",
    "print(type(num_array))"
   ]
  },
  {
   "cell_type": "markdown",
   "id": "304b5d37-8818-488e-be45-fc60694d2bc1",
   "metadata": {},
   "source": [
    "Q4. Write a code to find the following characteristics of variable, num_array:\n",
    "(i) shape\n",
    "(ii) size"
   ]
  },
  {
   "cell_type": "code",
   "execution_count": 38,
   "id": "f867935f-93ff-44d4-80c8-777c7f1b4014",
   "metadata": {},
   "outputs": [
    {
     "data": {
      "text/plain": [
       "array([[1, 2, 3],\n",
       "       [4, 5, 6]])"
      ]
     },
     "execution_count": 38,
     "metadata": {},
     "output_type": "execute_result"
    }
   ],
   "source": [
    "num_list = [ [ 1 , 2 , 3 ] , [ 4 , 5 , 6 ] ]\n",
    "num_array = np.array(object = num_list)\n",
    "num_array"
   ]
  },
  {
   "cell_type": "code",
   "execution_count": 39,
   "id": "6e98a4aa-7b56-4268-a15a-5bc033ef87e1",
   "metadata": {},
   "outputs": [
    {
     "data": {
      "text/plain": [
       "(2, 3)"
      ]
     },
     "execution_count": 39,
     "metadata": {},
     "output_type": "execute_result"
    }
   ],
   "source": [
    "np.shape(num_array)"
   ]
  },
  {
   "cell_type": "code",
   "execution_count": 40,
   "id": "d31edd50-c3a7-47c9-8102-ad366e983758",
   "metadata": {},
   "outputs": [
    {
     "data": {
      "text/plain": [
       "6"
      ]
     },
     "execution_count": 40,
     "metadata": {},
     "output_type": "execute_result"
    }
   ],
   "source": [
    "np.size(num_array)"
   ]
  },
  {
   "cell_type": "markdown",
   "id": "38bc1b3d-c1d1-4f7f-bdf6-b4f87e7b074d",
   "metadata": {},
   "source": [
    "Q5. Write a code to create numpy array of 3*3 matrix containing zeros only, using a numpy array\n",
    "creation function."
   ]
  },
  {
   "cell_type": "code",
   "execution_count": 43,
   "id": "2bd4d6b6-da9b-4c27-99a6-166fcd5b325f",
   "metadata": {},
   "outputs": [
    {
     "data": {
      "text/plain": [
       "array([[0., 0., 0.],\n",
       "       [0., 0., 0.],\n",
       "       [0., 0., 0.]])"
      ]
     },
     "execution_count": 43,
     "metadata": {},
     "output_type": "execute_result"
    }
   ],
   "source": [
    "array_num = np.zeros((3,3))\n",
    "array_num"
   ]
  },
  {
   "cell_type": "markdown",
   "id": "48f04ad0-13be-4e8a-b6c5-35b5ee9e437f",
   "metadata": {},
   "source": [
    "Q6. Create an identity matrix of shape (5,5) using numpy functions?"
   ]
  },
  {
   "cell_type": "code",
   "execution_count": 48,
   "id": "2c28f61d-cbc9-42c5-9921-6d7e0bc566eb",
   "metadata": {},
   "outputs": [
    {
     "data": {
      "text/plain": [
       "array([[1., 0., 0., 0., 0.],\n",
       "       [0., 1., 0., 0., 0.],\n",
       "       [0., 0., 1., 0., 0.],\n",
       "       [0., 0., 0., 1., 0.],\n",
       "       [0., 0., 0., 0., 1.]])"
      ]
     },
     "execution_count": 48,
     "metadata": {},
     "output_type": "execute_result"
    }
   ],
   "source": [
    "num_array = np.eye(5)\n",
    "num_array"
   ]
  }
 ],
 "metadata": {
  "kernelspec": {
   "display_name": "Python 3 (ipykernel)",
   "language": "python",
   "name": "python3"
  },
  "language_info": {
   "codemirror_mode": {
    "name": "ipython",
    "version": 3
   },
   "file_extension": ".py",
   "mimetype": "text/x-python",
   "name": "python",
   "nbconvert_exporter": "python",
   "pygments_lexer": "ipython3",
   "version": "3.10.8"
  }
 },
 "nbformat": 4,
 "nbformat_minor": 5
}
